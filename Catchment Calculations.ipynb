{
 "cells": [
  {
   "cell_type": "code",
   "execution_count": 3,
   "id": "8b6f8974",
   "metadata": {},
   "outputs": [],
   "source": [
    "import requests\n",
    "import configparser\n",
    "import pandas as pd\n",
    "from tqdm import tqdm\n",
    "import time"
   ]
  },
  {
   "cell_type": "code",
   "execution_count": 4,
   "id": "e8a3c21e",
   "metadata": {},
   "outputs": [],
   "source": [
    "def get_drive_time(origin, destination, access_token):\n",
    "    url = \"https://api.mapbox.com/directions/v5/mapbox/driving/{0},{1};{2},{3}\".format(origin[0], origin[1], destination[0], destination[1])\n",
    "    params = {\n",
    "        \"access_token\": access_token,\n",
    "        \"depart_at\": '2024-10-21T17:00'\n",
    "    }\n",
    "    try:\n",
    "        response = requests.get(url, params = params)\n",
    "        data = response.json()\n",
    "        if \"routes\" in data and len(data[\"routes\"]) > 0:\n",
    "            duration = data[\"routes\"][0][\"duration\"] / 60\n",
    "            return duration\n",
    "        else:\n",
    "            return None\n",
    "    except requests.exceptions.RequestException as e:\n",
    "        print(f\"Request failed: {e}\")\n",
    "        return None"
   ]
  },
  {
   "cell_type": "code",
   "execution_count": 5,
   "id": "62f8892f",
   "metadata": {},
   "outputs": [
    {
     "name": "stdout",
     "output_type": "stream",
     "text": [
      "Drive time:  4.848733333333333  minutes\n"
     ]
    }
   ],
   "source": [
    "# Test usage\n",
    "origin = (-0.39847, 51.56422)\n",
    "destination = (-0.39014, 51.55711)\n",
    "\n",
    "parser = configparser.ConfigParser()\n",
    "parser.read(\"config.txt\")\n",
    "access_token = parser.get(\"API_credentials\", \"secret_token\")\n",
    "\n",
    "drive_time = get_drive_time(origin, destination, access_token)\n",
    "print(\"Drive time: \", drive_time, \" minutes\")"
   ]
  },
  {
   "cell_type": "code",
   "execution_count": null,
   "id": "9587926e",
   "metadata": {},
   "outputs": [
    {
     "name": "stderr",
     "output_type": "stream",
     "text": [
      "  4%|▍         | 2844/70291 [17:55<6:48:41,  2.75it/s] "
     ]
    }
   ],
   "source": [
    "# Read in data\n",
    "df = pd.read_csv(\"Catchment Data.csv\")\n",
    "df['DriveTime'] = None\n",
    "df.to_csv(\"Catchment Data DTs.csv\", index = False)\n",
    "\n",
    "# Load existing progress\n",
    "temp_df = pd.read_csv(\"Catchment Data DTs.csv\")\n",
    "processed_rows = temp_df.dropna(subset=['DriveTime']).shape[0]\n",
    "\n",
    "# Initialize drive_times list with existing progress\n",
    "drive_times = temp_df['DriveTime'].tolist()\n",
    "\n",
    "# Continue processing from the last processed row\n",
    "for i, (index, row) in enumerate(tqdm(df.iloc[processed_rows:].iterrows(), total=df.shape[0] - processed_rows)):\n",
    "    origin = (row['CustomerLong'], row['CustomerLat'])\n",
    "    destination = (row['CentreLong'], row['CentreLat'])\n",
    "    duration = get_drive_time(origin, destination, access_token)\n",
    "    drive_times.append(duration)\n",
    "    temp_df.at[index, 'CentreName'] = row['CentreName']\n",
    "    temp_df.at[index, 'CentreLat'] = row['CentreLat']\n",
    "    temp_df.at[index, 'CentreLong'] = row['CentreLong']\n",
    "    temp_df.at[index, 'CustomerLat'] = row['CustomerLat']\n",
    "    temp_df.at[index, 'CustomerLong'] = row['CustomerLong']\n",
    "    temp_df.at[index, 'TotalTickets'] = row['TotalTickets']\n",
    "    temp_df.at[index, 'TotalValue'] = row['TotalValue']\n",
    "    temp_df.at[index, 'DriveTime'] = duration\n",
    "    time.sleep(0.2)\n",
    "\n",
    "    # Save the CSV every 500 iterations\n",
    "    if (i + 1) % 500 == 0:\n",
    "        temp_df.to_csv('Catchment Data DTs.csv', index=False)\n",
    "\n",
    "# Save any remaining rows after the loop finishes\n",
    "temp_df.to_csv('Catchment Data DTs.csv', index=False)\n"
   ]
  }
 ],
 "metadata": {
  "kernelspec": {
   "display_name": "Python 3",
   "language": "python",
   "name": "python3"
  },
  "language_info": {
   "codemirror_mode": {
    "name": "ipython",
    "version": 3
   },
   "file_extension": ".py",
   "mimetype": "text/x-python",
   "name": "python",
   "nbconvert_exporter": "python",
   "pygments_lexer": "ipython3",
   "version": "3.13.2"
  }
 },
 "nbformat": 4,
 "nbformat_minor": 5
}
